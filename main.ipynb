{
 "cells": [
  {
   "cell_type": "code",
   "execution_count": 55,
   "id": "fef808ca",
   "metadata": {
    "scrolled": true
   },
   "outputs": [],
   "source": [
    "import csv\n",
    "import math\n",
    "import random\n",
    "from math import *\n",
    "\n",
    "import pandas as pd\n",
    "import seaborn as sns\n",
    "import matplotlib.pyplot as plt\n",
    "\n",
    "from sklearn.naive_bayes import GaussianNB\n",
    "from sklearn.model_selection import train_test_split\n",
    "from sklearn.metrics import confusion_matrix, accuracy_score, classification_report"
   ]
  },
  {
   "cell_type": "markdown",
   "id": "97050ba8",
   "metadata": {},
   "source": [
    "### DECLARACION DE LAS FUNCIONES DEL PROCEDIMIENTO MANUAL"
   ]
  },
  {
   "cell_type": "code",
   "execution_count": 56,
   "id": "b6369eba",
   "metadata": {},
   "outputs": [],
   "source": [
    "# categorical class names are changed to numeric data\n",
    "# for example: yes and no encoded in 1 and 0\n",
    "def encodeClass(mydata):\n",
    "    classes = []\n",
    "    for i in range(len(mydata)):\n",
    "        if mydata[i][-1] not in classes:\n",
    "            classes.append(mydata[i][-1])\n",
    "    for i in range(len(classes)):\n",
    "        for j in range(len(mydata)):\n",
    "            if mydata[j][-1] == classes[i]:\n",
    "                mydata[j][-1] = i\n",
    "    return mydata                   "
   ]
  },
  {
   "cell_type": "code",
   "execution_count": 57,
   "id": "e9789255",
   "metadata": {},
   "outputs": [],
   "source": [
    "def splitting(mydata, ratio):\n",
    "    train_num = int(len(mydata) * ratio)\n",
    "    train = []\n",
    "    # initially the test set will have the entire dataset\n",
    "    test = list(mydata)\n",
    "    while len(train) < train_num:\n",
    "        # randomly generated index from rank 0\n",
    "        # to the length of the test set\n",
    "        index = random.randrange(len(test))\n",
    "        # from the test set, extract rows of data and run it\n",
    "        train.append(test.pop(index))\n",
    "    return train, test "
   ]
  },
  {
   "cell_type": "code",
   "execution_count": 58,
   "id": "0bd9dae3",
   "metadata": {},
   "outputs": [],
   "source": [
    "# Group the data of each class yes or no in the dictionary, for example: dict[yes] and dict[no]\n",
    "def groupUnderClass(mydata):\n",
    "      dict = {}\n",
    "      for i in range(len(mydata)):\n",
    "          if (mydata[i][-1] not in dict):\n",
    "              dict[mydata[i][-1]] = []\n",
    "          dict[mydata[i][-1]].append(mydata[i])\n",
    "      return dict\n",
    " "
   ]
  },
  {
   "cell_type": "code",
   "execution_count": 59,
   "id": "91f23f4b",
   "metadata": {},
   "outputs": [],
   "source": [
    "# Calculation of the mean\n",
    "def mean(numbers):\n",
    "    return sum(numbers)/float(len(numbers))"
   ]
  },
  {
   "cell_type": "code",
   "execution_count": 60,
   "id": "568bf595",
   "metadata": {},
   "outputs": [],
   "source": [
    "# Calculate the standard deviation\n",
    "def std_dev(numbers):\n",
    "    avg = mean(numbers)\n",
    "    variance = sum([pow(x - avg, 2) for x in numbers]) / (len(numbers) - 1)\n",
    "    return math.sqrt(variance)"
   ]
  },
  {
   "cell_type": "code",
   "execution_count": 61,
   "id": "e5a4d598",
   "metadata": {},
   "outputs": [],
   "source": [
    "def meanAndStdDev(mydata):\n",
    "    info = [(mean(attribute), std_dev(attribute)) for attribute in zip(*mydata)]\n",
    "    del info[-1]\n",
    "    return info"
   ]
  },
  {
   "cell_type": "code",
   "execution_count": 62,
   "id": "3ffff847",
   "metadata": {},
   "outputs": [],
   "source": [
    "# find the mean and standard deviation in each class\n",
    "def meanAndStdDevForClass(mydata):\n",
    "    info = {}\n",
    "    dict = groupUnderClass(mydata)\n",
    "    #print(dict.keys())\n",
    "    for classValue, instances in dict.items():\n",
    "        info[classValue] = meanAndStdDev(instances)\n",
    "    return info"
   ]
  },
  {
   "cell_type": "code",
   "execution_count": 63,
   "id": "25c7de7c",
   "metadata": {},
   "outputs": [],
   "source": [
    "# Compute the Gaussian probability density function\n",
    "def calculateGaussianProbability(x, mean, stdev):\n",
    "    expo = exp(-((x - mean) ** 2) / (2 * stdev ** 2))\n",
    "    return (1 / (sqrt(2 * pi) * stdev)) * expo"
   ]
  },
  {
   "cell_type": "code",
   "execution_count": 64,
   "id": "68f4c429",
   "metadata": {},
   "outputs": [],
   "source": [
    "# Compute class probabilities\n",
    "def calculateClassProbabilities(info, test):\n",
    "    probabilities = {}\n",
    "    for classValue, classSummaries in info.items():\n",
    "        probabilities[classValue] = 1\n",
    "        for i in range(len(classSummaries)):\n",
    "            mean, std_dev = classSummaries[i]\n",
    "            x = test[i]\n",
    "            probabilities[classValue] *= calculateGaussianProbability(x, mean, std_dev)\n",
    "    return probabilities"
   ]
  },
  {
   "cell_type": "code",
   "execution_count": 65,
   "id": "be1621ce",
   "metadata": {},
   "outputs": [],
   "source": [
    "# Make prediction: the highest probability is the prediction\n",
    "def predict(info, test):\n",
    "    #print(test)\n",
    "    probabilities = calculateClassProbabilities(info, test)\n",
    "    #print(probabilities)\n",
    "    bestLabel, bestProb = None, -1\n",
    "    for classValue, probability in probabilities.items():\n",
    "        if bestLabel is None or probability > bestProb:\n",
    "            bestProb = probability\n",
    "            bestLabel = classValue\n",
    "    return bestLabel"
   ]
  },
  {
   "cell_type": "code",
   "execution_count": 66,
   "id": "c465f603",
   "metadata": {},
   "outputs": [],
   "source": [
    "# returns predictions for a set of examples\n",
    "def getPredictions(info, test):\n",
    "    predictions = []\n",
    "    for i in range(len(test)):\n",
    "        result = predict(info, test[i])\n",
    "        predictions.append(result)\n",
    "    return predictions"
   ]
  },
  {
   "cell_type": "code",
   "execution_count": 67,
   "id": "0b30f523",
   "metadata": {},
   "outputs": [],
   "source": [
    "# Accuracy score\n",
    "def accuracy_rate(test, predictions):\n",
    "    correct = 0\n",
    "    for i in range(len(test)):\n",
    "        if test[i][-1] == predictions[i]:\n",
    "            correct += 1\n",
    "    return (correct / float(len(test))) * 100.0"
   ]
  },
  {
   "cell_type": "markdown",
   "id": "31b848be",
   "metadata": {},
   "source": [
    "### DATA DESCRIPTION"
   ]
  },
  {
   "cell_type": "code",
   "execution_count": 68,
   "id": "33c1ebe5",
   "metadata": {},
   "outputs": [
    {
     "data": {
      "text/html": [
       "<div>\n",
       "<style scoped>\n",
       "    .dataframe tbody tr th:only-of-type {\n",
       "        vertical-align: middle;\n",
       "    }\n",
       "\n",
       "    .dataframe tbody tr th {\n",
       "        vertical-align: top;\n",
       "    }\n",
       "\n",
       "    .dataframe thead th {\n",
       "        text-align: right;\n",
       "    }\n",
       "</style>\n",
       "<table border=\"1\" class=\"dataframe\">\n",
       "  <thead>\n",
       "    <tr style=\"text-align: right;\">\n",
       "      <th></th>\n",
       "      <th>mean_radius</th>\n",
       "      <th>mean_texture</th>\n",
       "      <th>mean_perimeter</th>\n",
       "      <th>mean_area</th>\n",
       "      <th>mean_smoothness</th>\n",
       "      <th>diagnosis</th>\n",
       "    </tr>\n",
       "  </thead>\n",
       "  <tbody>\n",
       "    <tr>\n",
       "      <th>0</th>\n",
       "      <td>17.990</td>\n",
       "      <td>10.38</td>\n",
       "      <td>122.80</td>\n",
       "      <td>1001.0</td>\n",
       "      <td>0.11840</td>\n",
       "      <td>0</td>\n",
       "    </tr>\n",
       "    <tr>\n",
       "      <th>1</th>\n",
       "      <td>20.570</td>\n",
       "      <td>17.77</td>\n",
       "      <td>132.90</td>\n",
       "      <td>1326.0</td>\n",
       "      <td>0.08474</td>\n",
       "      <td>0</td>\n",
       "    </tr>\n",
       "    <tr>\n",
       "      <th>2</th>\n",
       "      <td>19.690</td>\n",
       "      <td>21.25</td>\n",
       "      <td>130.00</td>\n",
       "      <td>1203.0</td>\n",
       "      <td>0.10960</td>\n",
       "      <td>0</td>\n",
       "    </tr>\n",
       "    <tr>\n",
       "      <th>3</th>\n",
       "      <td>11.420</td>\n",
       "      <td>20.38</td>\n",
       "      <td>77.58</td>\n",
       "      <td>386.1</td>\n",
       "      <td>0.14250</td>\n",
       "      <td>0</td>\n",
       "    </tr>\n",
       "    <tr>\n",
       "      <th>4</th>\n",
       "      <td>20.290</td>\n",
       "      <td>14.34</td>\n",
       "      <td>135.10</td>\n",
       "      <td>1297.0</td>\n",
       "      <td>0.10030</td>\n",
       "      <td>0</td>\n",
       "    </tr>\n",
       "    <tr>\n",
       "      <th>...</th>\n",
       "      <td>...</td>\n",
       "      <td>...</td>\n",
       "      <td>...</td>\n",
       "      <td>...</td>\n",
       "      <td>...</td>\n",
       "      <td>...</td>\n",
       "    </tr>\n",
       "    <tr>\n",
       "      <th>553</th>\n",
       "      <td>9.333</td>\n",
       "      <td>21.94</td>\n",
       "      <td>59.01</td>\n",
       "      <td>264.0</td>\n",
       "      <td>0.09240</td>\n",
       "      <td>1</td>\n",
       "    </tr>\n",
       "    <tr>\n",
       "      <th>554</th>\n",
       "      <td>12.880</td>\n",
       "      <td>28.92</td>\n",
       "      <td>82.50</td>\n",
       "      <td>514.3</td>\n",
       "      <td>0.08123</td>\n",
       "      <td>1</td>\n",
       "    </tr>\n",
       "    <tr>\n",
       "      <th>555</th>\n",
       "      <td>10.290</td>\n",
       "      <td>27.61</td>\n",
       "      <td>65.67</td>\n",
       "      <td>321.4</td>\n",
       "      <td>0.09030</td>\n",
       "      <td>1</td>\n",
       "    </tr>\n",
       "    <tr>\n",
       "      <th>556</th>\n",
       "      <td>10.160</td>\n",
       "      <td>19.59</td>\n",
       "      <td>64.73</td>\n",
       "      <td>311.7</td>\n",
       "      <td>0.10030</td>\n",
       "      <td>1</td>\n",
       "    </tr>\n",
       "    <tr>\n",
       "      <th>557</th>\n",
       "      <td>9.423</td>\n",
       "      <td>27.88</td>\n",
       "      <td>59.26</td>\n",
       "      <td>271.3</td>\n",
       "      <td>0.08123</td>\n",
       "      <td>1</td>\n",
       "    </tr>\n",
       "  </tbody>\n",
       "</table>\n",
       "<p>558 rows × 6 columns</p>\n",
       "</div>"
      ],
      "text/plain": [
       "     mean_radius  mean_texture  mean_perimeter  mean_area  mean_smoothness  \\\n",
       "0         17.990         10.38          122.80     1001.0          0.11840   \n",
       "1         20.570         17.77          132.90     1326.0          0.08474   \n",
       "2         19.690         21.25          130.00     1203.0          0.10960   \n",
       "3         11.420         20.38           77.58      386.1          0.14250   \n",
       "4         20.290         14.34          135.10     1297.0          0.10030   \n",
       "..           ...           ...             ...        ...              ...   \n",
       "553        9.333         21.94           59.01      264.0          0.09240   \n",
       "554       12.880         28.92           82.50      514.3          0.08123   \n",
       "555       10.290         27.61           65.67      321.4          0.09030   \n",
       "556       10.160         19.59           64.73      311.7          0.10030   \n",
       "557        9.423         27.88           59.26      271.3          0.08123   \n",
       "\n",
       "     diagnosis  \n",
       "0            0  \n",
       "1            0  \n",
       "2            0  \n",
       "3            0  \n",
       "4            0  \n",
       "..         ...  \n",
       "553          1  \n",
       "554          1  \n",
       "555          1  \n",
       "556          1  \n",
       "557          1  \n",
       "\n",
       "[558 rows x 6 columns]"
      ]
     },
     "execution_count": 68,
     "metadata": {},
     "output_type": "execute_result"
    }
   ],
   "source": [
    "# Data path on your system\n",
    "filename = r'./data/Breast_cancer_data.csv'\n",
    "dataset = pd.read_csv(filename,  delimiter=',')\n",
    "dataset.head(-11)"
   ]
  },
  {
   "cell_type": "code",
   "execution_count": 69,
   "id": "eb0794ee",
   "metadata": {},
   "outputs": [],
   "source": [
    "%%capture \n",
    "fig, axes = plt.subplots(2,3)\n",
    "fig.set_size_inches(18.5, 9.5)\n",
    "fig.tight_layout()\n",
    "sns.distplot(dataset.values[:,0],ax=axes[0][0]).set_title(\"Mean radius\")\n",
    "sns.distplot(dataset.values[:,1],ax=axes[0][1]).set_title(\"Mean texture\")\n",
    "sns.distplot(dataset.values[:,2],ax=axes[0][2]).set_title(\"Mean perimeter\")\n",
    "sns.distplot(dataset.values[:,3],ax=axes[1][0]).set_title(\"Mean area\")\n",
    "sns.distplot(dataset.values[:,4],ax=axes[1][1]).set_title(\"Mean smoothness\")\n",
    "axes[1][2].hist(dataset.values[:,5])\n",
    "axes[1][2].set_title(\"Diagnosis\")\n"
   ]
  },
  {
   "cell_type": "code",
   "execution_count": 70,
   "id": "d30d1aa5",
   "metadata": {},
   "outputs": [
    {
     "name": "stdout",
     "output_type": "stream",
     "text": [
      "1    357\n",
      "0    212\n",
      "Name: diagnosis, dtype: int64\n"
     ]
    },
    {
     "data": {
      "image/png": "[encoded data removed]",
      "text/plain": [
       "<Figure size 432x288 with 1 Axes>"
      ]
     },
     "metadata": {
      "needs_background": "light"
     },
     "output_type": "display_data"
    }
   ],
   "source": [
    "# Get a count of the number of malignant (1) or benign (0)\n",
    "print(dataset['diagnosis'].value_counts())\n",
    "sns.countplot(x = dataset['diagnosis']);"
   ]
  },
  {
   "cell_type": "markdown",
   "id": "54237c09",
   "metadata": {},
   "source": [
    "### MANUAL PROCEDURE"
   ]
  },
  {
   "cell_type": "markdown",
   "id": "4c76e852",
   "metadata": {},
   "source": [
    "Preparamos los datos"
   ]
  },
  {
   "cell_type": "code",
   "execution_count": 71,
   "id": "a1963958",
   "metadata": {},
   "outputs": [
    {
     "name": "stdout",
     "output_type": "stream",
     "text": [
      "INFO: Total number of examples are:  569\n",
      "INFO: Out of these, training examples are:  398\n",
      "INFO: Test examples are:  171\n"
     ]
    }
   ],
   "source": [
    "\n",
    "mydata = csv.reader(open(filename, \"rt\"))\n",
    "mydata = list(mydata)\n",
    "del mydata[0]\n",
    "#misdatos = encodeClass(misdatos)\n",
    "\n",
    "for i in range(len(mydata)):\n",
    "    mydata[i] = [float(x) for x in mydata[i]]\n",
    "\n",
    "# Division ratio = 0.7\n",
    "# 70% training and 30% testing\n",
    "ratio = 0.7\n",
    "train_data, test_data = splitting(mydata, ratio)\n",
    "\n",
    "X_train = [x[:-1] for x in train_data]\n",
    "X_test = [x[:-1] for x in test_data]\n",
    "y_train = [y[-1] for y in train_data]\n",
    "y_test = [y[-1] for y in test_data]\n",
    "\n",
    "print('INFO: Total number of examples are: ', len(mydata))\n",
    "print('INFO: Out of these, training examples are: ', len(train_data))\n",
    "print(\"INFO: Test examples are: \", len(test_data))"
   ]
  },
  {
   "cell_type": "markdown",
   "id": "5ddf8d87",
   "metadata": {},
   "source": [
    "Aplicamos el modelo manual"
   ]
  },
  {
   "cell_type": "code",
   "execution_count": 72,
   "id": "4bebd753",
   "metadata": {},
   "outputs": [
    {
     "data": {
      "image/png": "[encoded data removed]",
      "text/plain": [
       "<Figure size 432x288 with 1 Axes>"
      ]
     },
     "metadata": {
      "needs_background": "light"
     },
     "output_type": "display_data"
    },
    {
     "name": "stdout",
     "output_type": "stream",
     "text": [
      "INFO: Accuracy of the model is: 90.06% \n",
      "\n"
     ]
    }
   ],
   "source": [
    "# Calculate the mean and standard deviation of the attributes for each class\n",
    "result = meanAndStdDevForClass(train_data)\n",
    "\n",
    "# Get the predictions for each of the rows in the test set\n",
    "y_predictions = getPredictions(result, test_data)\n",
    "\n",
    "# The confusion matrix is generated between the real data and the prediction\n",
    "cm = confusion_matrix(y_test, y_predictions) \n",
    "sns.heatmap(cm,annot=True,fmt=\"d\",cbar=False,cmap=\"YlGnBu\")\n",
    "plt.show()\n",
    "\n",
    "# Show the accuracy of the model\n",
    "accuracy = accuracy_rate(test_data, y_predictions)\n",
    "print(\"INFO: Accuracy of the model is: {:.2f}% \\n\".format(accuracy))"
   ]
  },
  {
   "cell_type": "markdown",
   "id": "d265182e",
   "metadata": {},
   "source": [
    "### APPLYING THE SKLEARN LIBRARY"
   ]
  },
  {
   "cell_type": "code",
   "execution_count": 73,
   "id": "717ce802",
   "metadata": {},
   "outputs": [],
   "source": [
    "#X = dataset.iloc[:,:-1].values\n",
    "#Y = dataset.iloc[:, -1].values\n",
    "\n",
    "#X_train, X_test, y_train, y_test = train_test_split(X, Y, test_size = 0.3, random_state = 0)"
   ]
  },
  {
   "cell_type": "code",
   "execution_count": 74,
   "id": "0b49fda1",
   "metadata": {},
   "outputs": [
    {
     "data": {
      "image/png": "[encoded data removed]",
      "text/plain": [
       "<Figure size 432x288 with 1 Axes>"
      ]
     },
     "metadata": {
      "needs_background": "light"
     },
     "output_type": "display_data"
    },
    {
     "name": "stdout",
     "output_type": "stream",
     "text": [
      "INFO: Accuracy of your model is : 90.06% \n",
      "\n",
      "              precision    recall  f1-score   support\n",
      "\n",
      "         0.0       0.92      0.78      0.84        59\n",
      "         1.0       0.89      0.96      0.93       112\n",
      "\n",
      "    accuracy                           0.90       171\n",
      "   macro avg       0.91      0.87      0.89       171\n",
      "weighted avg       0.90      0.90      0.90       171\n",
      "\n"
     ]
    }
   ],
   "source": [
    "classifier = GaussianNB()\n",
    "\n",
    "classifier.fit(X_train, y_train)\n",
    "\n",
    "y_predictions = classifier.predict(X_test)\n",
    "\n",
    "cm = confusion_matrix(y_test, y_predictions) \n",
    "sns.heatmap(cm,annot=True,fmt=\"d\",cbar=False,cmap=\"YlGnBu\")\n",
    "plt.show()\n",
    "\n",
    "print(\"INFO: Accuracy of your model is : {:.2f}% \\n\".format(accuracy_score(y_test, y_predictions)*100))\n",
    "print(classification_report(y_test, y_predictions))"
   ]
  }
 ],
 "metadata": {
  "kernelspec": {
   "display_name": "Python 3",
   "language": "python",
   "name": "python3"
  },
  "language_info": {
   "codemirror_mode": {
    "name": "ipython",
    "version": 3
   },
   "file_extension": ".py",
   "mimetype": "text/x-python",
   "name": "python",
   "nbconvert_exporter": "python",
   "pygments_lexer": "ipython3",
   "version": "3.8.8"
  }
 },
 "nbformat": 4,
 "nbformat_minor": 5
}
